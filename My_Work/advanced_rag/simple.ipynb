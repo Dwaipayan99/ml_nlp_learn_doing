{
 "cells": [
  {
   "cell_type": "code",
   "execution_count": 5,
   "metadata": {},
   "outputs": [],
   "source": [
    "##Data Ingestion\n",
    "from langchain_community.document_loaders import TextLoader\n",
    "loader = TextLoader(\"speech.txt\")\n",
    "text_documents = loader.load()"
   ]
  },
  {
   "cell_type": "code",
   "execution_count": 6,
   "metadata": {},
   "outputs": [
    {
     "name": "stdout",
     "output_type": "stream",
     "text": [
      "[Document(page_content='Sisters and Brothers of America,\\nIt fills my heart with joy unspeakable to rise in response to the warm and cordial welcome which you have given us. I thank you in the name of the most ancient order of monks in the world, I thank you in the name of the mother of religions, and I thank you in the name of millions and millions of Hindu people of all classes and sects.\\nMy thanks, also, to some of the speakers on this platform who, referring to the delegates from the Orient, have told you that these men from far-off nations may well claim the honor of bearing to different lands the idea of toleration. I am proud to belong to a religion which has taught the world both tolerance and universal acceptance. We believe not only in universal toleration, but we accept all religions as true. I am proud to belong to a nation which has sheltered the persecuted and the refugees of all religions and all nations of the earth. I am proud to tell you that we have gathered in our bosom the purest remnant of the Israelites, who came to Southern India and took refuge with us in the very year in which their holy temple was shat\\xadtered to pieces by Roman tyranny. I am proud to belong to the religion which has sheltered and is still fostering the remnant of the grand Zoroastrian nation. I will quote to you, brethren, a few lines from a hymn which I remember to have repeated from my earliest boyhood, which is every day repeated by millions of human beings: “As the different streams having their sources in different paths which men take through different tendencies, various though they appear, crooked or straight, all lead to Thee.”\\nThe present convention, which is one of the most august assemblies ever held, is in itself a vindication, a declaration to the world of the wonderful doctrine preached in the Gita: “Whosoever comes to Me, through whatsoever form, I reach him; all men are struggling through paths which in the end lead to me.” Sectarianism, bigotry, and its horrible descen\\xaddant, fanaticism, have long possessed this beautiful earth. They have filled the earth with vio\\xadlence, drenched it often and often with human blood, destroyed civilization and sent whole nations to despair. Had it not been for these horrible demons, human society would be far more advanced than it is now. But their time is come; and I fervently hope that the bell that tolled this morning in honor of this convention may be the death-knell of all fanaticism, of all persecutions with the sword or with the pen, and of all uncharitable feelings between persons wending their way to the same goal.', metadata={'source': 'speech.txt'})]\n"
     ]
    }
   ],
   "source": [
    "print(text_documents)"
   ]
  },
  {
   "cell_type": "code",
   "execution_count": 8,
   "metadata": {},
   "outputs": [],
   "source": [
    "import os \n",
    "from dotenv import load_dotenv\n",
    "load_dotenv()\n",
    "\n",
    "openai_key = os.getenv(\"OPENAI_API_KEY\")\n",
    "os.environ[\"OPENAI_API_KEY\"]= openai_key"
   ]
  },
  {
   "cell_type": "code",
   "execution_count": 20,
   "metadata": {},
   "outputs": [],
   "source": [
    "from langchain_community.document_loaders import WebBaseLoader\n",
    "import bs4\n",
    "\n",
    "loader = WebBaseLoader(\n",
    "    web_paths=[\"https://en.wikipedia.org/wiki/Regression_analysis\"],\n",
    "    bs_kwargs=dict(parse_only=bs4.SoupStrainer(\n",
    "        class_=(\"post-title\", \"post-header\", \"post-content\")\n",
    "    ))\n",
    ")\n",
    "text_documents = loader.load()\n"
   ]
  },
  {
   "cell_type": "code",
   "execution_count": 55,
   "metadata": {},
   "outputs": [
    {
     "name": "stderr",
     "output_type": "stream",
     "text": [
      "Ignoring wrong pointing object 6 0 (offset 0)\n"
     ]
    }
   ],
   "source": [
    "from langchain_community.document_loaders import PyPDFLoader\n",
    "loader = PyPDFLoader('mov1.pdf')\n",
    "docs = loader.load()"
   ]
  },
  {
   "cell_type": "code",
   "execution_count": 65,
   "metadata": {},
   "outputs": [],
   "source": [
    "from langchain.text_splitter import RecursiveCharacterTextSplitter\n",
    "text_splitter = RecursiveCharacterTextSplitter(chunk_size=1000,chunk_overlap=20)\n",
    "documents = text_splitter.split_documents(docs)"
   ]
  },
  {
   "cell_type": "code",
   "execution_count": 66,
   "metadata": {},
   "outputs": [],
   "source": [
    "##vector embedding and vector store\n",
    "from langchain_community.embeddings import OpenAIEmbeddings\n",
    "from langchain_community.vectorstores import Chroma\n",
    "db = Chroma.from_documents(documents,OpenAIEmbeddings())"
   ]
  },
  {
   "cell_type": "code",
   "execution_count": 67,
   "metadata": {},
   "outputs": [
    {
     "name": "stdout",
     "output_type": "stream",
     "text": [
      "[Document(page_content='1\\xa0\\n\\xa0\\nSummary\\xa0of\\xa0“The\\xa0Merchant\\xa0of\\xa0Venice”\\xa0\\nby\\xa0William\\xa0Shakespeare\\xa0\\nIntroduction:\\xa0\\nThe\\xa0play\\xa0takes\\xa0place\\xa0in\\xa0Venice,\\xa0Italy\\xa0and\\xa0Belmont,\\xa0Portia’s\\xa0home,\\xa0during\\xa0the\\xa0fourteenth\\xa0century.\\xa0\\xa0\\nThe\\xa0main\\xa0characters\\xa0are\\xa0Antonio,\\xa0Bassiano,\\xa0and\\xa0Shylock.\\xa0\\xa0Antonio\\xa0is\\xa0a\\xa0merchant\\xa0and\\xa0fair\\xa0money‐\\nlender,\\xa0but\\xa0he\\xa0currently\\xa0is\\xa0overinvested.\\xa0\\xa0Bassiano\\xa0is\\xa0in\\xa0debt.\\xa0\\xa0Both\\xa0Antonio\\xa0and\\xa0Bassino\\xa0are\\xa0\\nChristians.\\xa0\\xa0Shylock\\xa0is\\xa0a\\xa0Jewish\\xa0money‐lender.\\xa0\\xa0All\\xa0of\\xa0these\\xa0characters\\xa0are\\xa0worried\\xa0about\\xa0money.\\xa0\\xa0\\xa0\\xa0\\nAct\\xa0I\\xa0–\\xa0The\\xa0Agreement\\xa0\\nBassiano\\xa0confesses\\xa0his\\xa0love\\xa0for\\xa0Portia\\xa0to\\xa0Antonio.\\xa0\\xa0He\\xa0explains\\xa0Antonio\\xa0that\\xa0he\\xa0has\\xa0been\\xa0unwise\\xa0\\nwith\\xa0money\\xa0throughout\\xa0his\\xa0life,\\xa0and\\xa0that\\xa0he\\xa0is\\xa0in\\xa0need\\xa0of\\xa0$3,000\\xa0gold\\xa0coins\\xa0to\\xa0win\\xa0over\\xa0Portia.\\xa0\\xa0\\nBassiano\\xa0tells\\xa0Antonio\\xa0about\\xa0the\\xa0fortune\\xa0that\\xa0was\\xa0left\\xa0to\\xa0Portia\\xa0upon\\xa0her\\xa0father’s\\xa0death.\\xa0\\xa0Antonio\\xa0\\nwants\\xa0to\\xa0help\\xa0his\\xa0friend,\\xa0but\\xa0he\\xa0has\\xa0invested\\xa0his\\xa0money\\xa0in\\xa0three\\xa0trading\\xa0ships\\xa0that\\xa0are\\xa0still\\xa0out\\xa0at\\xa0sea.\\xa0\\xa0\\xa0\\nAntonio\\xa0agrees\\xa0to\\xa0borrow\\xa0money\\xa0from\\xa0a\\xa0man\\xa0he\\xa0despises\\xa0named\\xa0Shylock\\xa0for\\xa0Bassiano’s\\xa0courtship', metadata={'page': 0, 'source': 'mov1.pdf'}), Document(page_content='1\\xa0\\n\\xa0\\nSummary\\xa0of\\xa0“The\\xa0Merchant\\xa0of\\xa0Venice”\\xa0\\nby\\xa0William\\xa0Shakespeare\\xa0\\nIntroduction:\\xa0\\nThe\\xa0play\\xa0takes\\xa0place\\xa0in\\xa0Venice,\\xa0Italy\\xa0and\\xa0Belmont,\\xa0Portia’s\\xa0home,\\xa0during\\xa0the\\xa0fourteenth\\xa0century.\\xa0\\xa0\\nThe\\xa0main\\xa0characters\\xa0are\\xa0Antonio,\\xa0Bassiano,\\xa0and\\xa0Shylock.\\xa0\\xa0Antonio\\xa0is\\xa0a\\xa0merchant\\xa0and\\xa0fair\\xa0money‐\\nlender,\\xa0but\\xa0he\\xa0currently\\xa0is\\xa0overinvested.\\xa0\\xa0Bassiano\\xa0is\\xa0in\\xa0debt.\\xa0\\xa0Both\\xa0Antonio\\xa0and\\xa0Bassino\\xa0are\\xa0\\nChristians.\\xa0\\xa0Shylock\\xa0is\\xa0a\\xa0Jewish\\xa0money‐lender.\\xa0\\xa0All\\xa0of\\xa0these\\xa0characters\\xa0are\\xa0worried\\xa0about\\xa0money.\\xa0\\xa0\\xa0\\xa0\\nAct\\xa0I\\xa0–\\xa0The\\xa0Agreement\\xa0\\nBassiano\\xa0confesses\\xa0his\\xa0love\\xa0for\\xa0Portia\\xa0to\\xa0Antonio.\\xa0\\xa0He\\xa0explains\\xa0Antonio\\xa0that\\xa0he\\xa0has\\xa0been\\xa0unwise\\xa0\\nwith\\xa0money\\xa0throughout\\xa0his\\xa0life,\\xa0and\\xa0that\\xa0he\\xa0is\\xa0in\\xa0need\\xa0of\\xa0$3,000\\xa0gold\\xa0coins\\xa0to\\xa0win\\xa0over\\xa0Portia.\\xa0\\xa0\\nBassiano\\xa0tells\\xa0Antonio\\xa0about\\xa0the\\xa0fortune\\xa0that\\xa0was\\xa0left\\xa0to\\xa0Portia\\xa0upon\\xa0her\\xa0father’s\\xa0death.\\xa0\\xa0Antonio\\xa0\\nwants\\xa0to\\xa0help\\xa0his\\xa0friend,\\xa0but\\xa0he\\xa0has\\xa0invested\\xa0his\\xa0money\\xa0in\\xa0three\\xa0trading\\xa0ships\\xa0that\\xa0are\\xa0still\\xa0out\\xa0at\\xa0sea.\\xa0\\xa0\\xa0\\nAntonio\\xa0agrees\\xa0to\\xa0borrow\\xa0money\\xa0from\\xa0a\\xa0man\\xa0he\\xa0despises\\xa0named\\xa0Shylock\\xa0for\\xa0Bassiano’s\\xa0courtship', metadata={'page': 0, 'source': 'mov1.pdf'}), Document(page_content='1\\xa0\\n\\xa0\\nSummary\\xa0of\\xa0“The\\xa0Merchant\\xa0of\\xa0Venice”\\xa0\\nby\\xa0William\\xa0Shakespeare\\xa0\\nIntroduction:\\xa0\\nThe\\xa0play\\xa0takes\\xa0place\\xa0in\\xa0Venice,\\xa0Italy\\xa0and\\xa0Belmont,\\xa0Portia’s\\xa0home,\\xa0during\\xa0the\\xa0fourteenth\\xa0century.\\xa0\\xa0\\nThe\\xa0main\\xa0characters\\xa0are\\xa0Antonio,\\xa0Bassiano,\\xa0and\\xa0Shylock.\\xa0\\xa0Antonio\\xa0is\\xa0a\\xa0merchant\\xa0and\\xa0fair\\xa0money‐\\nlender,\\xa0but\\xa0he\\xa0currently\\xa0is\\xa0overinvested.\\xa0\\xa0Bassiano\\xa0is\\xa0in\\xa0debt.\\xa0\\xa0Both\\xa0Antonio\\xa0and\\xa0Bassino\\xa0are\\xa0\\nChristians.\\xa0\\xa0Shylock\\xa0is\\xa0a\\xa0Jewish\\xa0money‐lender.\\xa0\\xa0All\\xa0of\\xa0these\\xa0characters\\xa0are\\xa0worried\\xa0about\\xa0money.\\xa0\\xa0\\xa0\\xa0\\nAct\\xa0I\\xa0–\\xa0The\\xa0Agreement\\xa0\\nBassiano\\xa0confesses\\xa0his\\xa0love\\xa0for\\xa0Portia\\xa0to\\xa0Antonio.\\xa0\\xa0He\\xa0explains\\xa0Antonio\\xa0that\\xa0he\\xa0has\\xa0been\\xa0unwise\\xa0\\nwith\\xa0money\\xa0throughout\\xa0his\\xa0life,\\xa0and\\xa0that\\xa0he\\xa0is\\xa0in\\xa0need\\xa0of\\xa0$3,000\\xa0gold\\xa0coins\\xa0to\\xa0win\\xa0over\\xa0Portia.\\xa0\\xa0\\nBassiano\\xa0tells\\xa0Antonio\\xa0about\\xa0the\\xa0fortune\\xa0that\\xa0was\\xa0left\\xa0to\\xa0Portia\\xa0upon\\xa0her\\xa0father’s\\xa0death.\\xa0\\xa0Antonio\\xa0\\nwants\\xa0to\\xa0help\\xa0his\\xa0friend,\\xa0but\\xa0he\\xa0has\\xa0invested\\xa0his\\xa0money\\xa0in\\xa0three\\xa0trading\\xa0ships\\xa0that\\xa0are\\xa0still\\xa0out\\xa0at\\xa0sea.\\xa0\\xa0\\xa0\\nAntonio\\xa0agrees\\xa0to\\xa0borrow\\xa0money\\xa0from\\xa0a\\xa0man\\xa0he\\xa0despises\\xa0named\\xa0Shylock\\xa0for\\xa0Bassiano’s\\xa0courtship', metadata={'page': 0, 'source': 'mov1.pdf'}), Document(page_content='4\\xa0\\n\\xa0\\nall\\xa0of\\xa0his\\xa0ships\\xa0have\\xa0returned\\xa0safely\\xa0to\\xa0port,\\xa0and\\xa0Lorenzo\\xa0and\\xa0Jessica\\xa0find\\xa0out\\xa0about\\xa0their\\xa0future\\xa0\\ninheritance.\\xa0\\xa0\\xa0\\n\\xa0\\nQuestions\\xa0for\\xa0Shakespeare’s\\xa0“The\\xa0Merchant\\xa0of\\xa0Venice”\\xa0\\n1. Why\\xa0does\\xa0Bassiano\\xa0want\\xa0to\\xa0borrow\\xa0money\\xa0from\\xa0Antonio?\\xa0\\nHe\\xa0needs\\xa0money\\xa0to\\xa0court\\xa0Portia.\\xa0\\n2. Why\\xa0can’t\\xa0Antonio\\xa0lend\\xa0Bassiano\\xa0his\\xa0own\\xa0money?\\xa0\\nAntonio\\xa0has\\xa0invested\\xa0all\\xa0of\\xa0his\\xa0money\\xa0in\\xa0three\\xa0ships\\xa0away\\xa0at\\xa0sea.\\xa0\\n3. Why\\xa0does\\xa0Shylock\\xa0despise\\xa0Antonio?\\xa0\\nHe\\xa0despises\\xa0Antonio\\xa0because\\xa0he\\xa0is\\xa0a\\xa0fair\\xa0money‐lender,\\xa0a\\xa0Christian,\\xa0and\\xa0often\\xa0speaks\\xa0badly\\xa0\\nof\\xa0his\\xa0business’\\xa0practices\\xa0to\\xa0others.\\xa0\\xa0\\xa0\\n4. Why\\xa0does\\xa0Shylock\\xa0take\\xa0a\\xa0pound\\xa0of\\xa0flesh\\xa0as\\xa0collateral?\\xa0\\nHe\\xa0wants\\xa0to\\xa0kill\\xa0Antonio.\\xa0\\n5. What\\xa0test\\xa0does\\xa0Portia’s\\xa0father\\xa0design\\xa0before\\xa0his\\xa0death\\xa0for\\xa0her\\xa0possible\\xa0suitors?\\xa0\\nThey\\xa0have\\xa0to\\xa0choose\\xa0the\\xa0correct\\xa0box\\xa0from\\xa0one\\xa0of\\xa0three.\\xa0\\n6. Why\\xa0does\\xa0Jessica\\xa0leave\\xa0her\\xa0father’s\\xa0house?\\xa0\\nShe\\xa0is\\xa0in\\xa0love\\xa0with\\xa0Lorenzo,\\xa0and\\xa0she\\xa0despises\\xa0her\\xa0father’s\\xa0business’\\xa0practices.\\xa0\\n7. Why\\xa0does\\xa0Launcelot\\xa0want\\xa0to\\xa0become\\xa0Bassiano’s\\xa0servant?', metadata={'page': 3, 'source': 'mov1.pdf'})]\n"
     ]
    }
   ],
   "source": [
    "query = \"who wrote merchant of venice\"\n",
    "result =db.similarity_search(query)\n",
    "print(result)"
   ]
  },
  {
   "cell_type": "code",
   "execution_count": 68,
   "metadata": {},
   "outputs": [
    {
     "data": {
      "text/plain": [
       "'1\\xa0\\n\\xa0\\nSummary\\xa0of\\xa0“The\\xa0Merchant\\xa0of\\xa0Venice”\\xa0\\nby\\xa0William\\xa0Shakespeare\\xa0\\nIntroduction:\\xa0\\nThe\\xa0play\\xa0takes\\xa0place\\xa0in\\xa0Venice,\\xa0Italy\\xa0and\\xa0Belmont,\\xa0Portia’s\\xa0home,\\xa0during\\xa0the\\xa0fourteenth\\xa0century.\\xa0\\xa0\\nThe\\xa0main\\xa0characters\\xa0are\\xa0Antonio,\\xa0Bassiano,\\xa0and\\xa0Shylock.\\xa0\\xa0Antonio\\xa0is\\xa0a\\xa0merchant\\xa0and\\xa0fair\\xa0money‐\\nlender,\\xa0but\\xa0he\\xa0currently\\xa0is\\xa0overinvested.\\xa0\\xa0Bassiano\\xa0is\\xa0in\\xa0debt.\\xa0\\xa0Both\\xa0Antonio\\xa0and\\xa0Bassino\\xa0are\\xa0\\nChristians.\\xa0\\xa0Shylock\\xa0is\\xa0a\\xa0Jewish\\xa0money‐lender.\\xa0\\xa0All\\xa0of\\xa0these\\xa0characters\\xa0are\\xa0worried\\xa0about\\xa0money.\\xa0\\xa0\\xa0\\xa0\\nAct\\xa0I\\xa0–\\xa0The\\xa0Agreement\\xa0\\nBassiano\\xa0confesses\\xa0his\\xa0love\\xa0for\\xa0Portia\\xa0to\\xa0Antonio.\\xa0\\xa0He\\xa0explains\\xa0Antonio\\xa0that\\xa0he\\xa0has\\xa0been\\xa0unwise\\xa0\\nwith\\xa0money\\xa0throughout\\xa0his\\xa0life,\\xa0and\\xa0that\\xa0he\\xa0is\\xa0in\\xa0need\\xa0of\\xa0$3,000\\xa0gold\\xa0coins\\xa0to\\xa0win\\xa0over\\xa0Portia.\\xa0\\xa0\\nBassiano\\xa0tells\\xa0Antonio\\xa0about\\xa0the\\xa0fortune\\xa0that\\xa0was\\xa0left\\xa0to\\xa0Portia\\xa0upon\\xa0her\\xa0father’s\\xa0death.\\xa0\\xa0Antonio\\xa0\\nwants\\xa0to\\xa0help\\xa0his\\xa0friend,\\xa0but\\xa0he\\xa0has\\xa0invested\\xa0his\\xa0money\\xa0in\\xa0three\\xa0trading\\xa0ships\\xa0that\\xa0are\\xa0still\\xa0out\\xa0at\\xa0sea.\\xa0\\xa0\\xa0\\nAntonio\\xa0agrees\\xa0to\\xa0borrow\\xa0money\\xa0from\\xa0a\\xa0man\\xa0he\\xa0despises\\xa0named\\xa0Shylock\\xa0for\\xa0Bassiano’s\\xa0courtship'"
      ]
     },
     "execution_count": 68,
     "metadata": {},
     "output_type": "execute_result"
    }
   ],
   "source": [
    "result[0].page_content"
   ]
  },
  {
   "cell_type": "code",
   "execution_count": 69,
   "metadata": {},
   "outputs": [],
   "source": [
    "from langchain_community.vectorstores import FAISS\n",
    "db_faiss = FAISS.from_documents(documents,OpenAIEmbeddings())\n"
   ]
  },
  {
   "cell_type": "code",
   "execution_count": 70,
   "metadata": {},
   "outputs": [
    {
     "data": {
      "text/plain": [
       "'1\\xa0\\n\\xa0\\nSummary\\xa0of\\xa0“The\\xa0Merchant\\xa0of\\xa0Venice”\\xa0\\nby\\xa0William\\xa0Shakespeare\\xa0\\nIntroduction:\\xa0\\nThe\\xa0play\\xa0takes\\xa0place\\xa0in\\xa0Venice,\\xa0Italy\\xa0and\\xa0Belmont,\\xa0Portia’s\\xa0home,\\xa0during\\xa0the\\xa0fourteenth\\xa0century.\\xa0\\xa0\\nThe\\xa0main\\xa0characters\\xa0are\\xa0Antonio,\\xa0Bassiano,\\xa0and\\xa0Shylock.\\xa0\\xa0Antonio\\xa0is\\xa0a\\xa0merchant\\xa0and\\xa0fair\\xa0money‐\\nlender,\\xa0but\\xa0he\\xa0currently\\xa0is\\xa0overinvested.\\xa0\\xa0Bassiano\\xa0is\\xa0in\\xa0debt.\\xa0\\xa0Both\\xa0Antonio\\xa0and\\xa0Bassino\\xa0are\\xa0\\nChristians.\\xa0\\xa0Shylock\\xa0is\\xa0a\\xa0Jewish\\xa0money‐lender.\\xa0\\xa0All\\xa0of\\xa0these\\xa0characters\\xa0are\\xa0worried\\xa0about\\xa0money.\\xa0\\xa0\\xa0\\xa0\\nAct\\xa0I\\xa0–\\xa0The\\xa0Agreement\\xa0\\nBassiano\\xa0confesses\\xa0his\\xa0love\\xa0for\\xa0Portia\\xa0to\\xa0Antonio.\\xa0\\xa0He\\xa0explains\\xa0Antonio\\xa0that\\xa0he\\xa0has\\xa0been\\xa0unwise\\xa0\\nwith\\xa0money\\xa0throughout\\xa0his\\xa0life,\\xa0and\\xa0that\\xa0he\\xa0is\\xa0in\\xa0need\\xa0of\\xa0$3,000\\xa0gold\\xa0coins\\xa0to\\xa0win\\xa0over\\xa0Portia.\\xa0\\xa0\\nBassiano\\xa0tells\\xa0Antonio\\xa0about\\xa0the\\xa0fortune\\xa0that\\xa0was\\xa0left\\xa0to\\xa0Portia\\xa0upon\\xa0her\\xa0father’s\\xa0death.\\xa0\\xa0Antonio\\xa0\\nwants\\xa0to\\xa0help\\xa0his\\xa0friend,\\xa0but\\xa0he\\xa0has\\xa0invested\\xa0his\\xa0money\\xa0in\\xa0three\\xa0trading\\xa0ships\\xa0that\\xa0are\\xa0still\\xa0out\\xa0at\\xa0sea.\\xa0\\xa0\\xa0\\nAntonio\\xa0agrees\\xa0to\\xa0borrow\\xa0money\\xa0from\\xa0a\\xa0man\\xa0he\\xa0despises\\xa0named\\xa0Shylock\\xa0for\\xa0Bassiano’s\\xa0courtship'"
      ]
     },
     "execution_count": 70,
     "metadata": {},
     "output_type": "execute_result"
    }
   ],
   "source": [
    "query = \"Name the characters of mentioned in the pdf\"\n",
    "result = db_faiss.similarity_search(query)\n",
    "result[0].page_content"
   ]
  },
  {
   "cell_type": "code",
   "execution_count": 83,
   "metadata": {},
   "outputs": [
    {
     "data": {
      "text/plain": [
       "ChatOpenAI(client=<openai.resources.chat.completions.Completions object at 0x11930e3a0>, async_client=<openai.resources.chat.completions.AsyncCompletions object at 0x119311d30>, model_name='gpt-4o-mini', openai_api_key=SecretStr('**********'), openai_proxy='')"
      ]
     },
     "execution_count": 83,
     "metadata": {},
     "output_type": "execute_result"
    }
   ],
   "source": [
    "from langchain_openai import ChatOpenAI\n",
    "llm = ChatOpenAI(model=\"gpt-4o-mini\")\n",
    "llm"
   ]
  },
  {
   "cell_type": "code",
   "execution_count": 85,
   "metadata": {},
   "outputs": [],
   "source": [
    "from langchain_core.prompts import ChatPromptTemplate\n",
    "prompt = ChatPromptTemplate.from_template(\n",
    "    \"\"\" \n",
    "Answer the following question based only on the provided context.\n",
    "Think step by step before providing the detailed answer.\n",
    "<context>\n",
    "{context}\n",
    "</context>\n",
    "Question:{input}\n",
    "\"\"\"\n",
    ")"
   ]
  },
  {
   "cell_type": "code",
   "execution_count": 86,
   "metadata": {},
   "outputs": [],
   "source": [
    "from langchain.chains.combine_documents import create_stuff_documents_chain\n",
    "document_chain = create_stuff_documents_chain(llm,prompt)"
   ]
  },
  {
   "cell_type": "code",
   "execution_count": 87,
   "metadata": {},
   "outputs": [],
   "source": [
    "retriever = db.as_retriever()"
   ]
  },
  {
   "cell_type": "code",
   "execution_count": 88,
   "metadata": {},
   "outputs": [],
   "source": [
    "from langchain.chains import create_retrieval_chain\n",
    "retriver_chain=create_retrieval_chain(retriever,document_chain)\n"
   ]
  },
  {
   "cell_type": "code",
   "execution_count": 90,
   "metadata": {},
   "outputs": [
    {
     "data": {
      "text/plain": [
       "'In Act I of \"The Merchant of Venice,\" titled \"The Agreement,\" the stage is set in Venice, where the main characters introduce their conflicts and desires. The act begins with Bassiano expressing his love for Portia, a wealthy heiress. He confides in his friend Antonio, explaining that he needs 3,000 gold coins to pursue her, as he feels he has been financially irresponsible in the past.\\n\\nAntonio, who is a merchant, is sympathetic to Bassiano’s plight but reveals that he is currently overinvested; his wealth is tied up in three trading ships that are out at sea. Despite his own financial challenges, Antonio agrees to help Bassiano. However, since he cannot provide the money himself, he resolves to borrow it from Shylock, a Jewish money-lender whom he despises. This sets the stage for the central conflict of the play, as the agreement between Antonio and Shylock will lead to significant consequences later in the story.\\n\\nOverall, this act establishes the themes of love, friendship, and the complexities of financial dealings, while foreshadowing the tension between the Christian characters and Shylock.'"
      ]
     },
     "execution_count": 90,
     "metadata": {},
     "output_type": "execute_result"
    }
   ],
   "source": [
    "response = retriver_chain.invoke({'input':\"descrive Act I  The Agreement\"})\n",
    "response[\"answer\"]"
   ]
  }
 ],
 "metadata": {
  "kernelspec": {
   "display_name": "rag_full_env",
   "language": "python",
   "name": "python3"
  },
  "language_info": {
   "codemirror_mode": {
    "name": "ipython",
    "version": 3
   },
   "file_extension": ".py",
   "mimetype": "text/x-python",
   "name": "python",
   "nbconvert_exporter": "python",
   "pygments_lexer": "ipython3",
   "version": "3.9.21"
  }
 },
 "nbformat": 4,
 "nbformat_minor": 2
}
